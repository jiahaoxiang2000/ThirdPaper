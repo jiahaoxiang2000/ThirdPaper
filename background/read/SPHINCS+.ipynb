{
 "cells": [
  {
   "cell_type": "markdown",
   "metadata": {},
   "source": [
    "# SPHINCS+\n",
    "\n",
    "[pdf file](../related_work/sphincs+-r3.1-specification.pdf)\n"
   ]
  },
  {
   "cell_type": "markdown",
   "metadata": {},
   "source": [
    "## 1. Introduction\n",
    "\n",
    "- Lamport's one-time signatures [15] → extended by Merkle [17] for many-time use.\n",
    "- Relies on simple hash function properties; Merkle’s method originally required a fixed number of signatures and was stateful.\n",
    "- Over time, performance and theoretical underpinnings improved, leading to XMSS [7,8] (still stateful).\n",
    "- SPHINCS [5] introduced a stateless hash-based signature (larger keys/signatures vs. XMSS).\n",
    "- SPHINCS+ further refines SPHINCS. It uses **hypertrees** and few-time signature (FTS) schemes to authenticate many key pairs.\n"
   ]
  },
  {
   "cell_type": "markdown",
   "metadata": {
    "vscode": {
     "languageId": "plaintext"
    }
   },
   "source": [
    "For each new message, a (pseudo)random **FTS** key pair is chosen to sign the message. More specifically, a hypertree is a tree of hash-based many-time signatures (**MTS**).\n"
   ]
  },
  {
   "cell_type": "markdown",
   "metadata": {},
   "source": [
    "An MTS signature is just a classical Merkle-tree signature in the case of SPHINCS+. It consists of a one-time signature (OTS) on the given message plus the authentication path in the binary hash-tree, authenticating the $N$ OTS key pairs of one MTS key pair.\n",
    "\n",
    "The **public key** of SPHINCS+ is essentially the public key of the top level MTS which is just the **root node** of its binary hash tree and hence, a single hash value.\n"
   ]
  },
  {
   "cell_type": "markdown",
   "metadata": {},
   "source": [
    "The SPHINCS+ secret key is just a single secret seed value. From this, all the OTS and FTS secret keys are generated in a pseudorandom manner.\n"
   ]
  },
  {
   "cell_type": "markdown",
   "metadata": {},
   "source": [
    "## 1.2 Organization\n",
    "\n",
    "We start with basic notation. Afterwards we define WOTS+, the **OTS** used in SPHINCS+. Next, we specify XMSS, the **MTS** used in SPHINCS+, and how it is used to do HT signatures. Then, we define FORS, the **FTS** used, to finally specify SPHINCS+.\n"
   ]
  },
  {
   "cell_type": "markdown",
   "metadata": {},
   "source": [
    "### 2.7.1. Tweakable Hash Functions\n",
    "\n",
    "A tweakable hash function takes a public seed **PK.seed** and context information in form of an address **ADRS** in addition to the message input.\n"
   ]
  },
  {
   "cell_type": "markdown",
   "metadata": {},
   "source": [
    "The schemes described in this specification build upon several instantiations of tweakable hash functions of the form:\n",
    "\n",
    "$T_\\ell: B^n \\times B^{32} \\times B^{\\ell n} \\rightarrow B^n$\n",
    "\n",
    "$md \\leftarrow T_\\ell(\\text{PK.seed}, \\text{ADRS}, M)$\n",
    "\n",
    "mapping an $\\ell n$-byte message $M$ to an $n$-byte hash value $md$ using an $n$-byte seed $\\text{PK.seed}$ and a 32-byte address $\\text{ADRS}$. The function $T_\\ell$ is denoted by `T_l` in pseudocode.\n"
   ]
  },
  {
   "cell_type": "markdown",
   "metadata": {},
   "source": [
    "### 2.7.3. Hash Function Address Scheme (Structure of ADRS)\n",
    "\n",
    "There are five different types of addresses for different use cases:\n",
    "\n",
    "1. WOTS+ scheme hashing\n",
    "2. WOTS+ public key compression\n",
    "3. Main Merkle tree construction hashing\n",
    "4. FORS Merkle tree hashing\n",
    "5. FORS tree roots compression\n"
   ]
  },
  {
   "cell_type": "markdown",
   "metadata": {},
   "source": [
    "we reserve **three words**. The first word is used to specify the **layer** of the hypertree, the second word is used to specify the **position** in the hypertree, and the third word is used to specify the **type** of the address.\n",
    "\n",
    "The example of FORS Tree Address Structure,\n",
    "| layer address | tree address | type = 3 | key pair address | tree height | tree index|\n"
   ]
  },
  {
   "cell_type": "markdown",
   "metadata": {},
   "source": [
    "# 3. WOTS+ One-Time Signatures\n",
    "\n",
    "WOTS+ is a OTS scheme; while a private key can be used to sign any message, each private key MUST NOT be used to sign more than a single message.\n"
   ]
  },
  {
   "cell_type": "markdown",
   "metadata": {
    "vscode": {
     "languageId": "plaintext"
    }
   },
   "source": [
    "## 3.1. WOTS+ Parameters\n",
    "- $n$: security parameter; message length and length of private key, public key, or signature element in bytes\n",
    "- $w$: Winternitz parameter; element of set $\\{4,16,256\\}$\n",
    "\n",
    "These parameters compute values $\\text{len}$, $\\text{len}_1$ and $\\text{len}_2$:\n",
    "\n",
    "- $\\text{len}$: number of $n$-byte-string elements in a WOTS+ private key, public key, and signature\n",
    "  - Computed as $\\text{len} = \\text{len}_1 + \\text{len}_2$, where:\n",
    "    - $\\text{len}_1 = \\lceil\\frac{8n}{\\log(w)}\\rceil$\n",
    "    - $\\text{len}_2 = \\lfloor\\frac{\\log (\\text{len}_1(w-1))}{\\log(w)}\\rfloor + 1$"
   ]
  },
  {
   "cell_type": "markdown",
   "metadata": {},
   "source": [
    "# 6.SPHINCS+\n",
    "\n",
    "## 6.2. SPHINCS+ Key Generation\n",
    "\n",
    "The SPHINCS+ private key contains two elements:\n",
    "\n",
    "1. The $n$-byte secret seed `SK.seed` which is used to generate all the WOTS+ and FORS private key elements\n",
    "2. An $n$-byte PRF key `SK.prf` which is used to deterministically generate a randomization value for the randomized message hash\n"
   ]
  },
  {
   "cell_type": "markdown",
   "metadata": {},
   "source": [
    "Algorithm 19: SPHINCS+ Key Pair Generation\n",
    "\n",
    "Function $\\texttt{spx\\_keygen}$ generates a SPHINCS+ key pair $(SK,PK)$:\n",
    "\n",
    "```python\n",
    "# filepath: algorithms/spx_keygen.py\n",
    "def spx_keygen():\n",
    "    SK.seed = sec_rand(n)\n",
    "    SK.prf = sec_rand(n)\n",
    "    PK.seed = sec_rand(n)\n",
    "    PK.root = ht_PKgen(SK.seed, PK.seed)\n",
    "    return ((SK.seed, SK.prf, PK.seed, PK.root),\n",
    "            (PK.seed, PK.root))\n",
    "```\n"
   ]
  },
  {
   "cell_type": "markdown",
   "metadata": {},
   "source": [
    "## 6.3 SPHINCS+ Signature\n",
    "\n",
    "A SPHINCS+ signature $\\text{SIG}_{HT}$ is a byte string of length $(1+k(a+1)+h+d\\text{len})n$. It consists of:\n",
    "\n",
    "- An $n$-byte randomization string $R$\n",
    "- A FORS signature $\\text{SIG}_{FORS}$ consisting of $k(a+1)$ $n$-byte strings\n",
    "- A HT signature $\\text{SIG}_{HT}$ of $(h+ d\\text{len})n$ bytes\n"
   ]
  },
  {
   "cell_type": "markdown",
   "metadata": {},
   "source": [
    "## 6.4. SPHINCS+ Signature Generation\n",
    "\n",
    "concise algorithm for SPHINCS+ signature generation:\n",
    "\n",
    "- init the parameters\n",
    "- compute the message digest `md` by the `H_msg`\n",
    "- use the `md` and ADRS, by the tree from the `md`,to generate the FORS signature `fors_sign`\n",
    "- creat the FORS public key\n",
    "- use the HT to generate the HT signature `ht_sign`, also by the tree from the `md`\n"
   ]
  }
 ],
 "metadata": {
  "language_info": {
   "name": "python"
  }
 },
 "nbformat": 4,
 "nbformat_minor": 2
}
