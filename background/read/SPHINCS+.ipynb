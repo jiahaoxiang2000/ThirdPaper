{
 "cells": [
  {
   "cell_type": "markdown",
   "metadata": {},
   "source": [
    "# SPHINCS+\n",
    "\n",
    "[pdf file](../related_work/sphincs+-r3.1-specification.pdf)\n"
   ]
  },
  {
   "cell_type": "markdown",
   "metadata": {},
   "source": [
    "## 1. Introduction\n",
    "\n",
    "- Lamport's one-time signatures [15] → extended by Merkle [17] for many-time use.\n",
    "- Relies on simple hash function properties; Merkle’s method originally required a fixed number of signatures and was stateful.\n",
    "- Over time, performance and theoretical underpinnings improved, leading to XMSS [7,8] (still stateful).\n",
    "- SPHINCS [5] introduced a stateless hash-based signature (larger keys/signatures vs. XMSS).\n",
    "- SPHINCS+ further refines SPHINCS. It uses **hypertrees** and few-time signature (FTS) schemes to authenticate many key pairs.\n"
   ]
  },
  {
   "cell_type": "markdown",
   "metadata": {
    "vscode": {
     "languageId": "plaintext"
    }
   },
   "source": [
    "For each new message, a (pseudo)random **FTS** key pair is chosen to sign the message. More specifically, a hypertree is a tree of hash-based many-time signatures (**MTS**).\n"
   ]
  },
  {
   "cell_type": "markdown",
   "metadata": {},
   "source": [
    "An MTS signature is just a classical Merkle-tree signature in the case of SPHINCS+. It consists of a one-time signature (OTS) on the given message plus the authentication path in the binary hash-tree, authenticating the $N$ OTS key pairs of one MTS key pair.\n",
    "\n",
    "The **public key** of SPHINCS+ is essentially the public key of the top level MTS which is just the **root node** of its binary hash tree and hence, a single hash value.\n"
   ]
  },
  {
   "cell_type": "markdown",
   "metadata": {},
   "source": [
    "The SPHINCS+ secret key is just a single secret seed value. From this, all the OTS and FTS secret keys are generated in a pseudorandom manner.\n"
   ]
  }
 ],
 "metadata": {
  "language_info": {
   "name": "python"
  }
 },
 "nbformat": 4,
 "nbformat_minor": 2
}
